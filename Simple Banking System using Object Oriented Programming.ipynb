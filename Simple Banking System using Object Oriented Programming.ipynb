{
 "cells": [
  {
   "cell_type": "markdown",
   "metadata": {},
   "source": [
    "# Colossus Bank\n",
    "\n",
    "We will create a simple banking system using Python Object Oriented Programming\n",
    "\n",
    "We will need the following:\n",
    "\n",
    "# Parent Class: User\n",
    "\n",
    "Holds details about a user\n",
    "Has a function to show user details\n",
    "\n",
    "# Child Class : Bank\n",
    "\n",
    "Stores details about the account balance\n",
    "Stores details about the amount\n",
    "Allows for deposits, withdrawal, view_balance"
   ]
  },
  {
   "cell_type": "code",
   "execution_count": 4,
   "metadata": {},
   "outputs": [],
   "source": [
    "# We create class User and define a function that will show user details\n",
    "\n",
    "class User():\n",
    "    def __init__(self, name, age, gender, income):\n",
    "        self.name = name\n",
    "        self.age = age\n",
    "        self.gender = gender\n",
    "        self.income = income\n",
    "    \n",
    "    def user_details(self):\n",
    "        print('Personal Details')\n",
    "        print('')\n",
    "        print('Name ', self.name)\n",
    "        print('Age ', self.age)\n",
    "        print('Gender ', self.gender)\n",
    "        print('Income ', self.income)"
   ]
  },
  {
   "cell_type": "code",
   "execution_count": 7,
   "metadata": {},
   "outputs": [
    {
     "data": {
      "text/plain": [
       "'150000'"
      ]
     },
     "execution_count": 7,
     "metadata": {},
     "output_type": "execute_result"
    }
   ],
   "source": [
    "# Lets create a new user and check their income\n",
    "\n",
    "donovan = User('donovan', '34', 'male', '150000')\n",
    "donovan.income"
   ]
  },
  {
   "cell_type": "code",
   "execution_count": 8,
   "metadata": {},
   "outputs": [
    {
     "name": "stdout",
     "output_type": "stream",
     "text": [
      "Personal Details\n",
      "\n",
      "Name  donovan\n",
      "Age  34\n",
      "Gender  male\n",
      "Income  150000\n"
     ]
    }
   ],
   "source": [
    "# lets check user details\n",
    "donovan.user_details()"
   ]
  },
  {
   "cell_type": "code",
   "execution_count": 17,
   "metadata": {},
   "outputs": [],
   "source": [
    "# Lets create a child class called Bank and deposit $9000 in $3000 increments\n",
    "class Bank(User):\n",
    "    def __init__(self, name, age, gender, income, balance):\n",
    "        super().__init__(name, age, gender, income)\n",
    "        self.balance = 0\n",
    "        \n",
    "    def deposit(self, amount):\n",
    "        self.balance = self.balance + amount\n",
    "        print('Account balance has been update : $', self.balance)"
   ]
  },
  {
   "cell_type": "code",
   "execution_count": 19,
   "metadata": {},
   "outputs": [
    {
     "name": "stdout",
     "output_type": "stream",
     "text": [
      "Account balance has been update : $ 3000\n"
     ]
    }
   ],
   "source": [
    "donovan = Bank('donovan', '34', 'male', '150000','1130000')\n",
    "donovan.deposit(3000)"
   ]
  },
  {
   "cell_type": "code",
   "execution_count": 20,
   "metadata": {},
   "outputs": [
    {
     "name": "stdout",
     "output_type": "stream",
     "text": [
      "Account balance has been update : $ 6000\n"
     ]
    }
   ],
   "source": [
    "donovan.deposit(3000)"
   ]
  },
  {
   "cell_type": "code",
   "execution_count": 21,
   "metadata": {},
   "outputs": [
    {
     "name": "stdout",
     "output_type": "stream",
     "text": [
      "Account balance has been update : $ 9000\n"
     ]
    }
   ],
   "source": [
    "donovan.deposit(3000)"
   ]
  },
  {
   "cell_type": "code",
   "execution_count": 58,
   "metadata": {},
   "outputs": [],
   "source": [
    "# Lets allow for withdrawals\n",
    "\n",
    "class Bank(User):\n",
    "    def __init__(self, name, age, gender, income, balance):\n",
    "        super().__init__(name, age, gender, income)\n",
    "        self.balance = 0\n",
    "        \n",
    "    def deposit(self, amount):\n",
    "        self.balance = self.balance + amount\n",
    "        print('Account balance has been update : $', self.balance)\n",
    "\n",
    "    def withdraw(self, amount):\n",
    "        self.amount = amount \n",
    "        if self.amount > self.balance:\n",
    "            print('Insufficient Funts | Balance Available : $',self.balance)\n",
    "        else:\n",
    "            self.balance = self.balance - self.amount\n",
    "            print('Account balance has been updated : $', self.balance )\n",
    "        \n",
    "    def view_balance(self):\n",
    "        print('Account balance  : $', self.balance )"
   ]
  },
  {
   "cell_type": "code",
   "execution_count": 53,
   "metadata": {},
   "outputs": [],
   "source": [
    "donovan = Bank('donovan', '34', 'male', '150000','9000')"
   ]
  },
  {
   "cell_type": "code",
   "execution_count": 54,
   "metadata": {},
   "outputs": [
    {
     "name": "stdout",
     "output_type": "stream",
     "text": [
      "Account balance has been update : $ 3000\n"
     ]
    }
   ],
   "source": [
    "donovan.deposit(3000) # add 3000"
   ]
  },
  {
   "cell_type": "code",
   "execution_count": 55,
   "metadata": {},
   "outputs": [
    {
     "name": "stdout",
     "output_type": "stream",
     "text": [
      "Account balance has been updated : $ 2500\n"
     ]
    }
   ],
   "source": [
    "donovan.withdraw(500) # Withdraw for Etheruem purchase"
   ]
  },
  {
   "cell_type": "code",
   "execution_count": 59,
   "metadata": {},
   "outputs": [
    {
     "name": "stdout",
     "output_type": "stream",
     "text": [
      "Account balance has been updated : $ 2500\n"
     ]
    }
   ],
   "source": [
    "donovan.view_balance()\n"
   ]
  },
  {
   "cell_type": "code",
   "execution_count": 57,
   "metadata": {},
   "outputs": [
    {
     "name": "stdout",
     "output_type": "stream",
     "text": [
      "Insufficient Funts | Balance Available : $ 2500\n"
     ]
    }
   ],
   "source": [
    "donovan.withdraw(3000) # overpurchase logic"
   ]
  }
 ],
 "metadata": {
  "kernelspec": {
   "display_name": "Python 3",
   "language": "python",
   "name": "python3"
  },
  "language_info": {
   "codemirror_mode": {
    "name": "ipython",
    "version": 3
   },
   "file_extension": ".py",
   "mimetype": "text/x-python",
   "name": "python",
   "nbconvert_exporter": "python",
   "pygments_lexer": "ipython3",
   "version": "3.7.4"
  }
 },
 "nbformat": 4,
 "nbformat_minor": 2
}
